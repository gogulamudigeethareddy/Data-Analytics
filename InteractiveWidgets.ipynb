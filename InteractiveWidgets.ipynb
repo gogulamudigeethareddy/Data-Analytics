{
 "cells": [
  {
   "cell_type": "code",
   "execution_count": 1,
   "id": "b8bbd65f",
   "metadata": {
    "scrolled": false
   },
   "outputs": [
    {
     "name": "stdout",
     "output_type": "stream",
     "text": [
      "Requirement already satisfied: ipywidgets in /Users/geethareddy/anaconda3/lib/python3.10/site-packages (8.0.7)\n",
      "Requirement already satisfied: ipython>=6.1.0 in /Users/geethareddy/anaconda3/lib/python3.10/site-packages (from ipywidgets) (8.10.0)\n",
      "Requirement already satisfied: jupyterlab-widgets~=3.0.7 in /Users/geethareddy/anaconda3/lib/python3.10/site-packages (from ipywidgets) (3.0.8)\n",
      "Requirement already satisfied: traitlets>=4.3.1 in /Users/geethareddy/anaconda3/lib/python3.10/site-packages (from ipywidgets) (5.7.1)\n",
      "Requirement already satisfied: widgetsnbextension~=4.0.7 in /Users/geethareddy/anaconda3/lib/python3.10/site-packages (from ipywidgets) (4.0.8)\n",
      "Requirement already satisfied: ipykernel>=4.5.1 in /Users/geethareddy/anaconda3/lib/python3.10/site-packages (from ipywidgets) (6.19.2)\n",
      "Requirement already satisfied: nest-asyncio in /Users/geethareddy/anaconda3/lib/python3.10/site-packages (from ipykernel>=4.5.1->ipywidgets) (1.5.6)\n",
      "Requirement already satisfied: packaging in /Users/geethareddy/anaconda3/lib/python3.10/site-packages (from ipykernel>=4.5.1->ipywidgets) (22.0)\n",
      "Requirement already satisfied: debugpy>=1.0 in /Users/geethareddy/anaconda3/lib/python3.10/site-packages (from ipykernel>=4.5.1->ipywidgets) (1.5.1)\n",
      "Requirement already satisfied: tornado>=6.1 in /Users/geethareddy/anaconda3/lib/python3.10/site-packages (from ipykernel>=4.5.1->ipywidgets) (6.1)\n",
      "Requirement already satisfied: pyzmq>=17 in /Users/geethareddy/anaconda3/lib/python3.10/site-packages (from ipykernel>=4.5.1->ipywidgets) (23.2.0)\n",
      "Requirement already satisfied: appnope in /Users/geethareddy/anaconda3/lib/python3.10/site-packages (from ipykernel>=4.5.1->ipywidgets) (0.1.2)\n",
      "Requirement already satisfied: jupyter-client>=6.1.12 in /Users/geethareddy/anaconda3/lib/python3.10/site-packages (from ipykernel>=4.5.1->ipywidgets) (7.3.4)\n",
      "Requirement already satisfied: psutil in /Users/geethareddy/anaconda3/lib/python3.10/site-packages (from ipykernel>=4.5.1->ipywidgets) (5.9.0)\n",
      "Requirement already satisfied: comm>=0.1.1 in /Users/geethareddy/anaconda3/lib/python3.10/site-packages (from ipykernel>=4.5.1->ipywidgets) (0.1.2)\n",
      "Requirement already satisfied: matplotlib-inline>=0.1 in /Users/geethareddy/anaconda3/lib/python3.10/site-packages (from ipykernel>=4.5.1->ipywidgets) (0.1.6)\n",
      "Requirement already satisfied: jedi>=0.16 in /Users/geethareddy/anaconda3/lib/python3.10/site-packages (from ipython>=6.1.0->ipywidgets) (0.18.1)\n",
      "Requirement already satisfied: pickleshare in /Users/geethareddy/anaconda3/lib/python3.10/site-packages (from ipython>=6.1.0->ipywidgets) (0.7.5)\n",
      "Requirement already satisfied: backcall in /Users/geethareddy/anaconda3/lib/python3.10/site-packages (from ipython>=6.1.0->ipywidgets) (0.2.0)\n",
      "Requirement already satisfied: pygments>=2.4.0 in /Users/geethareddy/anaconda3/lib/python3.10/site-packages (from ipython>=6.1.0->ipywidgets) (2.11.2)\n",
      "Requirement already satisfied: prompt-toolkit<3.1.0,>=3.0.30 in /Users/geethareddy/anaconda3/lib/python3.10/site-packages (from ipython>=6.1.0->ipywidgets) (3.0.36)\n",
      "Requirement already satisfied: decorator in /Users/geethareddy/anaconda3/lib/python3.10/site-packages (from ipython>=6.1.0->ipywidgets) (5.1.1)\n",
      "Requirement already satisfied: pexpect>4.3 in /Users/geethareddy/anaconda3/lib/python3.10/site-packages (from ipython>=6.1.0->ipywidgets) (4.8.0)\n",
      "Requirement already satisfied: stack-data in /Users/geethareddy/anaconda3/lib/python3.10/site-packages (from ipython>=6.1.0->ipywidgets) (0.2.0)\n",
      "Requirement already satisfied: parso<0.9.0,>=0.8.0 in /Users/geethareddy/anaconda3/lib/python3.10/site-packages (from jedi>=0.16->ipython>=6.1.0->ipywidgets) (0.8.3)\n",
      "Requirement already satisfied: jupyter-core>=4.9.2 in /Users/geethareddy/anaconda3/lib/python3.10/site-packages (from jupyter-client>=6.1.12->ipykernel>=4.5.1->ipywidgets) (5.2.0)\n",
      "Requirement already satisfied: python-dateutil>=2.8.2 in /Users/geethareddy/anaconda3/lib/python3.10/site-packages (from jupyter-client>=6.1.12->ipykernel>=4.5.1->ipywidgets) (2.8.2)\n",
      "Requirement already satisfied: entrypoints in /Users/geethareddy/anaconda3/lib/python3.10/site-packages (from jupyter-client>=6.1.12->ipykernel>=4.5.1->ipywidgets) (0.4)\n",
      "Requirement already satisfied: ptyprocess>=0.5 in /Users/geethareddy/anaconda3/lib/python3.10/site-packages (from pexpect>4.3->ipython>=6.1.0->ipywidgets) (0.7.0)\n",
      "Requirement already satisfied: wcwidth in /Users/geethareddy/anaconda3/lib/python3.10/site-packages (from prompt-toolkit<3.1.0,>=3.0.30->ipython>=6.1.0->ipywidgets) (0.2.5)\n",
      "Requirement already satisfied: pure-eval in /Users/geethareddy/anaconda3/lib/python3.10/site-packages (from stack-data->ipython>=6.1.0->ipywidgets) (0.2.2)\n",
      "Requirement already satisfied: executing in /Users/geethareddy/anaconda3/lib/python3.10/site-packages (from stack-data->ipython>=6.1.0->ipywidgets) (0.8.3)\n",
      "Requirement already satisfied: asttokens in /Users/geethareddy/anaconda3/lib/python3.10/site-packages (from stack-data->ipython>=6.1.0->ipywidgets) (2.0.5)\n",
      "Requirement already satisfied: platformdirs>=2.5 in /Users/geethareddy/anaconda3/lib/python3.10/site-packages (from jupyter-core>=4.9.2->jupyter-client>=6.1.12->ipykernel>=4.5.1->ipywidgets) (2.5.2)\n",
      "Requirement already satisfied: six>=1.5 in /Users/geethareddy/anaconda3/lib/python3.10/site-packages (from python-dateutil>=2.8.2->jupyter-client>=6.1.12->ipykernel>=4.5.1->ipywidgets) (1.16.0)\n"
     ]
    }
   ],
   "source": [
    "!pip install ipywidgets"
   ]
  },
  {
   "cell_type": "code",
   "execution_count": 2,
   "id": "7b630888",
   "metadata": {},
   "outputs": [
    {
     "name": "stdout",
     "output_type": "stream",
     "text": [
      "Enabling notebook extension jupyter-js-widgets/extension...\r\n",
      "      - Validating: \u001b[32mOK\u001b[0m\r\n"
     ]
    }
   ],
   "source": [
    "!jupyter nbextension enable --py widgetsnbextension --sys-prefix"
   ]
  },
  {
   "cell_type": "code",
   "execution_count": 3,
   "id": "afc4278f",
   "metadata": {},
   "outputs": [],
   "source": [
    "from ipywidgets import interact, interactive, fixed, interact_manual\n",
    "import ipywidgets as widgets"
   ]
  },
  {
   "cell_type": "code",
   "execution_count": 4,
   "id": "57d71627",
   "metadata": {},
   "outputs": [],
   "source": [
    "w = widgets.IntSlider(value=10,\n",
    "                      min=5,\n",
    "                      max=20,\n",
    "                      step=1,\n",
    "                      description='Range Slider:',\n",
    "                      continuous_update=False,\n",
    "                      orientation='horizontal')"
   ]
  },
  {
   "cell_type": "code",
   "execution_count": 5,
   "id": "d5a296fc",
   "metadata": {},
   "outputs": [
    {
     "data": {
      "application/vnd.jupyter.widget-view+json": {
       "model_id": "9352e211678147c7ba62a56a9c2ec744",
       "version_major": 2,
       "version_minor": 0
      },
      "text/plain": [
       "IntSlider(value=10, continuous_update=False, description='Range Slider:', max=20, min=5)"
      ]
     },
     "execution_count": 5,
     "metadata": {},
     "output_type": "execute_result"
    }
   ],
   "source": [
    "w"
   ]
  },
  {
   "cell_type": "code",
   "execution_count": 35,
   "id": "c0cb7e5d",
   "metadata": {},
   "outputs": [
    {
     "data": {
      "text/plain": [
       "14"
      ]
     },
     "execution_count": 35,
     "metadata": {},
     "output_type": "execute_result"
    }
   ],
   "source": [
    "w.value"
   ]
  },
  {
   "cell_type": "code",
   "execution_count": 7,
   "id": "67990f7f",
   "metadata": {},
   "outputs": [
    {
     "data": {
      "text/plain": [
       "ipywidgets.widgets.widget_int.IntSlider"
      ]
     },
     "execution_count": 7,
     "metadata": {},
     "output_type": "execute_result"
    }
   ],
   "source": [
    "type(w)"
   ]
  },
  {
   "cell_type": "code",
   "execution_count": 8,
   "id": "f2c22444",
   "metadata": {},
   "outputs": [],
   "source": [
    "r = widgets.IntRangeSlider(value=[10,1000],\n",
    "                      min=0,\n",
    "                      max=10000,\n",
    "                      step=1,\n",
    "                      description='Price Range:',\n",
    "                      orientation='horizontal')"
   ]
  },
  {
   "cell_type": "code",
   "execution_count": 37,
   "id": "dfe62c6e",
   "metadata": {},
   "outputs": [
    {
     "data": {
      "application/vnd.jupyter.widget-view+json": {
       "model_id": "14c9cacb6794489189447275b0faa860",
       "version_major": 2,
       "version_minor": 0
      },
      "text/plain": [
       "IntRangeSlider(value=(10, 3016), description='Price Range:', max=10000)"
      ]
     },
     "execution_count": 37,
     "metadata": {},
     "output_type": "execute_result"
    }
   ],
   "source": [
    "r"
   ]
  },
  {
   "cell_type": "code",
   "execution_count": 10,
   "id": "d33be512",
   "metadata": {},
   "outputs": [],
   "source": [
    "p = widgets.IntProgress(value=70,\n",
    "                      min=0,\n",
    "                      max=100,\n",
    "                      step=1,\n",
    "                      description='Loading:',\n",
    "                      bar_style='success',\n",
    "                      orientation='horizontal')"
   ]
  },
  {
   "cell_type": "code",
   "execution_count": 11,
   "id": "696ad4d2",
   "metadata": {},
   "outputs": [
    {
     "data": {
      "application/vnd.jupyter.widget-view+json": {
       "model_id": "d4d2daa6504748edb5791744e9f2928e",
       "version_major": 2,
       "version_minor": 0
      },
      "text/plain": [
       "IntProgress(value=70, bar_style='success', description='Loading:')"
      ]
     },
     "execution_count": 11,
     "metadata": {},
     "output_type": "execute_result"
    }
   ],
   "source": [
    "p"
   ]
  },
  {
   "cell_type": "code",
   "execution_count": 38,
   "id": "51eed191",
   "metadata": {},
   "outputs": [],
   "source": [
    "import time\n",
    "for i in range(0,110,10):\n",
    "    p.value=i\n",
    "    time.sleep(1)"
   ]
  },
  {
   "cell_type": "code",
   "execution_count": 13,
   "id": "30e48dc6",
   "metadata": {},
   "outputs": [
    {
     "data": {
      "application/vnd.jupyter.widget-view+json": {
       "model_id": "99f7c8db2d4544678381c924f3f3a342",
       "version_major": 2,
       "version_minor": 0
      },
      "text/plain": [
       "BoundedIntText(value=5, description='Text:')"
      ]
     },
     "execution_count": 13,
     "metadata": {},
     "output_type": "execute_result"
    }
   ],
   "source": [
    "widgets.BoundedIntText(value=5,\n",
    "                      min=0,\n",
    "                      max=100,\n",
    "                      step=1,\n",
    "                      description='Text:',\n",
    "                      disabled=False)"
   ]
  },
  {
   "cell_type": "code",
   "execution_count": 14,
   "id": "97291820",
   "metadata": {},
   "outputs": [
    {
     "data": {
      "application/vnd.jupyter.widget-view+json": {
       "model_id": "e72206c9325b43d38b15799d81e7c56f",
       "version_major": 2,
       "version_minor": 0
      },
      "text/plain": [
       "Checkbox(value=False, description='Check')"
      ]
     },
     "execution_count": 14,
     "metadata": {},
     "output_type": "execute_result"
    }
   ],
   "source": [
    " widgets.Checkbox(value=False,\n",
    "                  description='Check')"
   ]
  },
  {
   "cell_type": "code",
   "execution_count": 15,
   "id": "f2ad8ff6",
   "metadata": {},
   "outputs": [],
   "source": [
    "d = widgets.Dropdown(options=['None','0','1','2','3'],\n",
    "                     value='None',\n",
    "                     description='Number:',\n",
    "                     disabled=False)"
   ]
  },
  {
   "cell_type": "code",
   "execution_count": 16,
   "id": "b0140e9f",
   "metadata": {},
   "outputs": [
    {
     "data": {
      "application/vnd.jupyter.widget-view+json": {
       "model_id": "b8a59bc4a2b24459a63c3eb8291ca9c3",
       "version_major": 2,
       "version_minor": 0
      },
      "text/plain": [
       "Dropdown(description='Number:', options=('None', '0', '1', '2', '3'), value='None')"
      ]
     },
     "execution_count": 16,
     "metadata": {},
     "output_type": "execute_result"
    }
   ],
   "source": [
    "d"
   ]
  },
  {
   "cell_type": "code",
   "execution_count": 39,
   "id": "c8dc80b4",
   "metadata": {},
   "outputs": [
    {
     "data": {
      "text/plain": [
       "'1'"
      ]
     },
     "execution_count": 39,
     "metadata": {},
     "output_type": "execute_result"
    }
   ],
   "source": [
    "d.value"
   ]
  },
  {
   "cell_type": "code",
   "execution_count": 18,
   "id": "8b688a7d",
   "metadata": {},
   "outputs": [],
   "source": [
    "rb = widgets.RadioButtons(options=['None','MacBook Pro','MacBook Air',\n",
    "                                  'Notebook','Lenovo','Dell','HP'],\n",
    "                         value='None',\n",
    "                         description='Laptop choice')"
   ]
  },
  {
   "cell_type": "code",
   "execution_count": 19,
   "id": "ad7b36c2",
   "metadata": {},
   "outputs": [
    {
     "data": {
      "application/vnd.jupyter.widget-view+json": {
       "model_id": "c0a115ce0e97420e8daf2637bc3caa13",
       "version_major": 2,
       "version_minor": 0
      },
      "text/plain": [
       "RadioButtons(description='Laptop choice', options=('None', 'MacBook Pro', 'MacBook Air', 'Notebook', 'Lenovo',…"
      ]
     },
     "execution_count": 19,
     "metadata": {},
     "output_type": "execute_result"
    }
   ],
   "source": [
    "rb"
   ]
  },
  {
   "cell_type": "code",
   "execution_count": 20,
   "id": "9162ee7b",
   "metadata": {},
   "outputs": [],
   "source": [
    "button = widgets.Button(description='Happiness button',\n",
    "                        button_style='success',\n",
    "                        tooltip='Good things will hapen:-)',\n",
    "                        icon='Check')"
   ]
  },
  {
   "cell_type": "code",
   "execution_count": 21,
   "id": "5bd9d93a",
   "metadata": {},
   "outputs": [],
   "source": [
    "def button_click_event(button):\n",
    "    print('You clicked! Good things are about to happen:-)')\n",
    "    print(button.description)"
   ]
  },
  {
   "cell_type": "code",
   "execution_count": 22,
   "id": "0fd56ecb",
   "metadata": {},
   "outputs": [],
   "source": [
    "button.on_click(button_click_event)"
   ]
  },
  {
   "cell_type": "code",
   "execution_count": 23,
   "id": "2bd2052f",
   "metadata": {},
   "outputs": [
    {
     "data": {
      "application/vnd.jupyter.widget-view+json": {
       "model_id": "5df660165d494ee8aac490a0a3706d18",
       "version_major": 2,
       "version_minor": 0
      },
      "text/plain": [
       "Button(button_style='success', description='Happiness button', icon='Check', style=ButtonStyle(), tooltip='Goo…"
      ]
     },
     "execution_count": 23,
     "metadata": {},
     "output_type": "execute_result"
    },
    {
     "name": "stdout",
     "output_type": "stream",
     "text": [
      "You clicked! Good things are about to happen:-)\n",
      "Happiness button\n"
     ]
    }
   ],
   "source": [
    "button"
   ]
  },
  {
   "cell_type": "code",
   "execution_count": 24,
   "id": "f9c2a6da",
   "metadata": {},
   "outputs": [
    {
     "data": {
      "application/vnd.jupyter.widget-view+json": {
       "model_id": "e2fd14d92a704686886f842a0aa1eacb",
       "version_major": 2,
       "version_minor": 0
      },
      "text/plain": [
       "HBox(children=(Play(value=50, description='Press play'), IntSlider(value=0)))"
      ]
     },
     "execution_count": 24,
     "metadata": {},
     "output_type": "execute_result"
    }
   ],
   "source": [
    "play = widgets.Play(value=50,\n",
    "                    min=0,\n",
    "                    max=100,\n",
    "                    step=1,\n",
    "                    description='Press play')\n",
    "slider=widgets.IntSlider()\n",
    "widgets.jslink((play,'value'),(slider,'value'))\n",
    "widgets.HBox([play,slider])"
   ]
  },
  {
   "cell_type": "code",
   "execution_count": 25,
   "id": "d870c61d",
   "metadata": {},
   "outputs": [],
   "source": [
    "def f(x):\n",
    "    return x"
   ]
  },
  {
   "cell_type": "code",
   "execution_count": 26,
   "id": "6250609b",
   "metadata": {},
   "outputs": [
    {
     "data": {
      "application/vnd.jupyter.widget-view+json": {
       "model_id": "611850d777504518bab6e9902b0c58ee",
       "version_major": 2,
       "version_minor": 0
      },
      "text/plain": [
       "interactive(children=(IntSlider(value=10, description='x', max=30, min=-10), Output()), _dom_classes=('widget-…"
      ]
     },
     "metadata": {},
     "output_type": "display_data"
    }
   ],
   "source": [
    "interact(f,x=10);"
   ]
  },
  {
   "cell_type": "code",
   "execution_count": 27,
   "id": "712cb6ed",
   "metadata": {},
   "outputs": [
    {
     "data": {
      "application/vnd.jupyter.widget-view+json": {
       "model_id": "f775e3480600495f99e2092600016460",
       "version_major": 2,
       "version_minor": 0
      },
      "text/plain": [
       "interactive(children=(Checkbox(value=True, description='x'), Output()), _dom_classes=('widget-interact',))"
      ]
     },
     "metadata": {},
     "output_type": "display_data"
    }
   ],
   "source": [
    "interact(f, x=True);"
   ]
  },
  {
   "cell_type": "code",
   "execution_count": 28,
   "id": "7f26633c",
   "metadata": {},
   "outputs": [
    {
     "data": {
      "application/vnd.jupyter.widget-view+json": {
       "model_id": "4fcfc39144974e28a32a90dcbd010c1c",
       "version_major": 2,
       "version_minor": 0
      },
      "text/plain": [
       "interactive(children=(Text(value='Hello', description='x'), Output()), _dom_classes=('widget-interact',))"
      ]
     },
     "metadata": {},
     "output_type": "display_data"
    }
   ],
   "source": [
    "interact(f,x='Hello');"
   ]
  },
  {
   "cell_type": "code",
   "execution_count": 29,
   "id": "f9519eaa",
   "metadata": {},
   "outputs": [
    {
     "data": {
      "application/vnd.jupyter.widget-view+json": {
       "model_id": "a3a62e66293747c286253eceef8a2e92",
       "version_major": 2,
       "version_minor": 0
      },
      "text/plain": [
       "interactive(children=(Checkbox(value=True, description='x'), FloatSlider(value=5.0, description='y', max=15.0,…"
      ]
     },
     "metadata": {},
     "output_type": "display_data"
    }
   ],
   "source": [
    "@interact(x=True, y=5.0)\n",
    "def g(x,y):\n",
    "    return (x,y)"
   ]
  },
  {
   "cell_type": "code",
   "execution_count": 30,
   "id": "ea2e1ba4",
   "metadata": {},
   "outputs": [],
   "source": [
    "def h(p,q):\n",
    "    return (p,q)"
   ]
  },
  {
   "cell_type": "code",
   "execution_count": 31,
   "id": "a654015f",
   "metadata": {},
   "outputs": [
    {
     "data": {
      "application/vnd.jupyter.widget-view+json": {
       "model_id": "9010f4bc57f644558439a2789dfe5d03",
       "version_major": 2,
       "version_minor": 0
      },
      "text/plain": [
       "interactive(children=(IntSlider(value=5, description='p', max=15, min=-5), Output()), _dom_classes=('widget-in…"
      ]
     },
     "metadata": {},
     "output_type": "display_data"
    },
    {
     "data": {
      "text/plain": [
       "<function __main__.h(p, q)>"
      ]
     },
     "execution_count": 31,
     "metadata": {},
     "output_type": "execute_result"
    }
   ],
   "source": [
    "interact(h, p=5, q=fixed(20))"
   ]
  },
  {
   "cell_type": "code",
   "execution_count": 32,
   "id": "09cc7b80",
   "metadata": {},
   "outputs": [],
   "source": [
    "import matplotlib.pyplot as plt\n",
    "import numpy as np"
   ]
  },
  {
   "cell_type": "code",
   "execution_count": 33,
   "id": "337c7b39",
   "metadata": {},
   "outputs": [],
   "source": [
    "def f(m,b):\n",
    "    plt.figure(2)\n",
    "    x=np.linspace(-10,10,num=1000)\n",
    "    plt.plot(x,m*x+b)\n",
    "    plt.ylim(-5,5)\n",
    "    plt.show()\n",
    "interactive_plot = interactive(f,m=(-2.0,2.0),b=(-3,3,0.5))"
   ]
  },
  {
   "cell_type": "code",
   "execution_count": 34,
   "id": "8779b823",
   "metadata": {},
   "outputs": [
    {
     "data": {
      "application/vnd.jupyter.widget-view+json": {
       "model_id": "deed6f0c89df40cfa450d885a1b173e8",
       "version_major": 2,
       "version_minor": 0
      },
      "text/plain": [
       "interactive(children=(FloatSlider(value=0.0, description='m', max=2.0, min=-2.0), FloatSlider(value=0.0, descr…"
      ]
     },
     "execution_count": 34,
     "metadata": {},
     "output_type": "execute_result"
    }
   ],
   "source": [
    "output = interactive_plot.children[-1]\n",
    "output.layout.height = '350px'\n",
    "interactive_plot"
   ]
  },
  {
   "cell_type": "code",
   "execution_count": 41,
   "id": "3ab51ad5",
   "metadata": {},
   "outputs": [
    {
     "data": {
      "application/vnd.jupyter.widget-view+json": {
       "model_id": "3c4179c3da5740249c5064707a4c221b",
       "version_major": 2,
       "version_minor": 0
      },
      "text/plain": [
       "Text(value='')"
      ]
     },
     "metadata": {},
     "output_type": "display_data"
    },
    {
     "name": "stderr",
     "output_type": "stream",
     "text": [
      "/var/folders/zl/dwnb3zx93xb8fbkx250r95vw0000gn/T/ipykernel_43636/1111703229.py:7: DeprecationWarning: on_submit is deprecated. Instead, set the .continuous_update attribute to False and observe the value changing with: mywidget.observe(callback, 'value').\n",
      "  text.on_submit(make_upper_case)\n"
     ]
    },
    {
     "name": "stdout",
     "output_type": "stream",
     "text": [
      "HELLO\n"
     ]
    }
   ],
   "source": [
    "from IPython.display import display\n",
    "text = widgets.Text()\n",
    "display(text)\n",
    "def make_upper_case(input_text):\n",
    "    text.value = input_text.value.upper()\n",
    "    print(text.value)\n",
    "text.on_submit(make_upper_case)"
   ]
  },
  {
   "cell_type": "code",
   "execution_count": 42,
   "id": "50c1afce",
   "metadata": {},
   "outputs": [],
   "source": [
    "import pandas as pd"
   ]
  },
  {
   "cell_type": "code",
   "execution_count": 43,
   "id": "b6248a79",
   "metadata": {},
   "outputs": [],
   "source": [
    "house_data = pd.read_csv('HousingData.csv',\n",
    "                         names=['CRIM','ZN','INDUS','CHAS','NOX',\n",
    "                         'RM','AGE','DIS','RAD','TAX','PTRATIO',\n",
    "                         'B','LSTAT','MEDV'],\n",
    "                         header=1)"
   ]
  },
  {
   "cell_type": "code",
   "execution_count": 45,
   "id": "61b05f3a",
   "metadata": {},
   "outputs": [
    {
     "data": {
      "text/html": [
       "<div>\n",
       "<style scoped>\n",
       "    .dataframe tbody tr th:only-of-type {\n",
       "        vertical-align: middle;\n",
       "    }\n",
       "\n",
       "    .dataframe tbody tr th {\n",
       "        vertical-align: top;\n",
       "    }\n",
       "\n",
       "    .dataframe thead th {\n",
       "        text-align: right;\n",
       "    }\n",
       "</style>\n",
       "<table border=\"1\" class=\"dataframe\">\n",
       "  <thead>\n",
       "    <tr style=\"text-align: right;\">\n",
       "      <th></th>\n",
       "      <th>NOX</th>\n",
       "      <th>RM</th>\n",
       "      <th>TAX</th>\n",
       "      <th>PTRATIO</th>\n",
       "      <th>MEDV</th>\n",
       "    </tr>\n",
       "  </thead>\n",
       "  <tbody>\n",
       "    <tr>\n",
       "      <th>0</th>\n",
       "      <td>0.469</td>\n",
       "      <td>6.421</td>\n",
       "      <td>242</td>\n",
       "      <td>17.8</td>\n",
       "      <td>21.6</td>\n",
       "    </tr>\n",
       "    <tr>\n",
       "      <th>1</th>\n",
       "      <td>0.469</td>\n",
       "      <td>7.185</td>\n",
       "      <td>242</td>\n",
       "      <td>17.8</td>\n",
       "      <td>34.7</td>\n",
       "    </tr>\n",
       "    <tr>\n",
       "      <th>2</th>\n",
       "      <td>0.458</td>\n",
       "      <td>6.998</td>\n",
       "      <td>222</td>\n",
       "      <td>18.7</td>\n",
       "      <td>33.4</td>\n",
       "    </tr>\n",
       "    <tr>\n",
       "      <th>3</th>\n",
       "      <td>0.458</td>\n",
       "      <td>7.147</td>\n",
       "      <td>222</td>\n",
       "      <td>18.7</td>\n",
       "      <td>36.2</td>\n",
       "    </tr>\n",
       "    <tr>\n",
       "      <th>4</th>\n",
       "      <td>0.458</td>\n",
       "      <td>6.430</td>\n",
       "      <td>222</td>\n",
       "      <td>18.7</td>\n",
       "      <td>28.7</td>\n",
       "    </tr>\n",
       "  </tbody>\n",
       "</table>\n",
       "</div>"
      ],
      "text/plain": [
       "     NOX     RM  TAX  PTRATIO  MEDV\n",
       "0  0.469  6.421  242     17.8  21.6\n",
       "1  0.469  7.185  242     17.8  34.7\n",
       "2  0.458  6.998  222     18.7  33.4\n",
       "3  0.458  7.147  222     18.7  36.2\n",
       "4  0.458  6.430  222     18.7  28.7"
      ]
     },
     "execution_count": 45,
     "metadata": {},
     "output_type": "execute_result"
    }
   ],
   "source": [
    "house_data = house_data[['NOX','RM','TAX','PTRATIO','MEDV']]\n",
    "house_data.head()"
   ]
  },
  {
   "cell_type": "code",
   "execution_count": 46,
   "id": "4e3c47f6",
   "metadata": {},
   "outputs": [
    {
     "data": {
      "application/vnd.jupyter.widget-view+json": {
       "model_id": "9111665a7cd04fde80977f656ec612d2",
       "version_major": 2,
       "version_minor": 0
      },
      "text/plain": [
       "interactive(children=(Text(value='PTRATIO', description='column'), IntSlider(value=10, description='x', max=30…"
      ]
     },
     "metadata": {},
     "output_type": "display_data"
    }
   ],
   "source": [
    "@interact\n",
    "def show_housedata_morethan(column='PTRATIO',x=10):\n",
    "    return house_data.loc[house_data[column]>x]"
   ]
  },
  {
   "cell_type": "code",
   "execution_count": 54,
   "id": "b833785c",
   "metadata": {
    "scrolled": true
   },
   "outputs": [
    {
     "data": {
      "application/vnd.jupyter.widget-view+json": {
       "model_id": "3552fb9525d84aa48557a8a316e34984",
       "version_major": 2,
       "version_minor": 0
      },
      "text/plain": [
       "interactive(children=(Dropdown(description='file', options=('pic1.jpg', 'pic3.jpg', 'pic2.jpg', '.ipynb_checkp…"
      ]
     },
     "metadata": {},
     "output_type": "display_data"
    }
   ],
   "source": [
    "import os\n",
    "from IPython.display import Image\n",
    "fdir = 'Pics/'\n",
    "@interact\n",
    "def show_images(file = os.listdir(fdir)):\n",
    "    display(Image(fdir+file))"
   ]
  },
  {
   "cell_type": "code",
   "execution_count": null,
   "id": "2a0f0fd7",
   "metadata": {},
   "outputs": [],
   "source": []
  }
 ],
 "metadata": {
  "kernelspec": {
   "display_name": "Python 3 (ipykernel)",
   "language": "python",
   "name": "python3"
  },
  "language_info": {
   "codemirror_mode": {
    "name": "ipython",
    "version": 3
   },
   "file_extension": ".py",
   "mimetype": "text/x-python",
   "name": "python",
   "nbconvert_exporter": "python",
   "pygments_lexer": "ipython3",
   "version": "3.10.9"
  }
 },
 "nbformat": 4,
 "nbformat_minor": 5
}
