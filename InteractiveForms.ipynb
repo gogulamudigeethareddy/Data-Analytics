{
  "nbformat": 4,
  "nbformat_minor": 0,
  "metadata": {
    "colab": {
      "provenance": [],
      "authorship_tag": "ABX9TyOXn22hppV+MayH/+gC5NgG",
      "include_colab_link": true
    },
    "kernelspec": {
      "name": "python3",
      "display_name": "Python 3"
    },
    "language_info": {
      "name": "python"
    }
  },
  "cells": [
    {
      "cell_type": "markdown",
      "metadata": {
        "id": "view-in-github",
        "colab_type": "text"
      },
      "source": [
        "<a href=\"https://colab.research.google.com/github/gogulamudigeethareddy/Data-Analytics/blob/main/InteractiveForms.ipynb\" target=\"_parent\"><img src=\"https://colab.research.google.com/assets/colab-badge.svg\" alt=\"Open In Colab\"/></a>"
      ]
    },
    {
      "cell_type": "code",
      "execution_count": null,
      "metadata": {
        "id": "wlzN0hdsSYQb"
      },
      "outputs": [],
      "source": [
        "first_name = \"Charles\" #@param {type:\"string\"}\n",
        "last_name = \"Keith\" #@param {type:\"string\"}"
      ]
    },
    {
      "cell_type": "code",
      "source": [
        "print(first_name)\n",
        "print(last_name)"
      ],
      "metadata": {
        "colab": {
          "base_uri": "https://localhost:8080/"
        },
        "id": "8mXQbMrjTNko",
        "outputId": "a34bfcb2-153b-4da0-898f-ac7bc08474f4"
      },
      "execution_count": null,
      "outputs": [
        {
          "output_type": "stream",
          "name": "stdout",
          "text": [
            "Charles\n",
            "Keith\n"
          ]
        }
      ]
    },
    {
      "cell_type": "code",
      "source": [
        "age = 30 #@param {type:\"number\"}"
      ],
      "metadata": {
        "id": "NiBgINLgTXy_"
      },
      "execution_count": null,
      "outputs": []
    },
    {
      "cell_type": "code",
      "source": [
        "print('age is',age, 'and datatype is',type(age))"
      ],
      "metadata": {
        "colab": {
          "base_uri": "https://localhost:8080/"
        },
        "id": "Bw-dlHTGTomU",
        "outputId": "b93e7fe4-c2fb-4092-b012-b8ca4d7ff3cb"
      },
      "execution_count": null,
      "outputs": [
        {
          "output_type": "stream",
          "name": "stdout",
          "text": [
            "age is 30 and datatype is <class 'int'>\n"
          ]
        }
      ]
    },
    {
      "cell_type": "code",
      "source": [
        "#@title Dropdown\n",
        "gender = 'Male' #@param [\"Male\",\"Female\"]"
      ],
      "metadata": {
        "id": "S2dUg-OBT76k"
      },
      "execution_count": null,
      "outputs": []
    },
    {
      "cell_type": "code",
      "source": [
        "print(gender)"
      ],
      "metadata": {
        "colab": {
          "base_uri": "https://localhost:8080/"
        },
        "id": "ZVMeX2tyUH-l",
        "outputId": "9a5f8505-ae33-4b3b-c1c8-b8f7e1230f08"
      },
      "execution_count": null,
      "outputs": [
        {
          "output_type": "stream",
          "name": "stdout",
          "text": [
            "Female\n"
          ]
        }
      ]
    },
    {
      "cell_type": "code",
      "source": [
        "#@ User Input and Dropdown\n",
        "educational_qualification = \"M.Sc\" #@param [\"M.S\",\"M.Tech\",\"M.B.A\",\"Others\"]{allow-input:true}"
      ],
      "metadata": {
        "id": "kin-LPYBUOen"
      },
      "execution_count": null,
      "outputs": []
    },
    {
      "cell_type": "code",
      "source": [
        "contact_number = 1234 #@param {type:\"raw\"}\n",
        "#Either a number or string input"
      ],
      "metadata": {
        "id": "1CEGXeoYUuF2"
      },
      "execution_count": null,
      "outputs": []
    },
    {
      "cell_type": "code",
      "source": [
        "#title Date of Birth\n",
        "dob = \"2000-01-10\" #@param {type:\"date\"}"
      ],
      "metadata": {
        "id": "9CMDDv_kVeNd"
      },
      "execution_count": null,
      "outputs": []
    },
    {
      "cell_type": "code",
      "source": [
        "work_experience = True #@param {type:\"boolean\"}"
      ],
      "metadata": {
        "id": "sxeQhGfkV6cP"
      },
      "execution_count": null,
      "outputs": []
    },
    {
      "cell_type": "code",
      "source": [
        "print(work_experience)"
      ],
      "metadata": {
        "colab": {
          "base_uri": "https://localhost:8080/"
        },
        "id": "w4wQn4RKWHVn",
        "outputId": "5b1743cd-95bb-44c8-d0ac-228a7cf3d937"
      },
      "execution_count": null,
      "outputs": [
        {
          "output_type": "stream",
          "name": "stdout",
          "text": [
            "True\n"
          ]
        }
      ]
    },
    {
      "cell_type": "code",
      "source": [
        "work_experience_in_years = 8 #@param {type:\"slider\",min:0,max:10,step:1}"
      ],
      "metadata": {
        "cellView": "form",
        "id": "7aE8udhQWKlG"
      },
      "execution_count": null,
      "outputs": []
    },
    {
      "cell_type": "code",
      "source": [
        "print(work_experience_in_years)"
      ],
      "metadata": {
        "colab": {
          "base_uri": "https://localhost:8080/"
        },
        "id": "W9W-YrT5WYFA",
        "outputId": "eaddf5fe-dc93-49bd-8211-2469032fb944"
      },
      "execution_count": null,
      "outputs": [
        {
          "output_type": "stream",
          "name": "stdout",
          "text": [
            "8\n"
          ]
        }
      ]
    },
    {
      "cell_type": "code",
      "source": [
        "#@title ##Description\n",
        "#@markdown ####enter profile description\n",
        "describe = \"Data Analyst : Interpreting data, analyzing results\" #@param {type:\"string\"}\n",
        "#@markdown ---"
      ],
      "metadata": {
        "id": "Grr8hOvyWecg"
      },
      "execution_count": null,
      "outputs": []
    },
    {
      "cell_type": "code",
      "source": [
        "describe"
      ],
      "metadata": {
        "colab": {
          "base_uri": "https://localhost:8080/",
          "height": 35
        },
        "id": "6meqmHIOXbM1",
        "outputId": "e1246be8-4fe0-48f5-c810-fcaec5bd3ac9"
      },
      "execution_count": null,
      "outputs": [
        {
          "output_type": "execute_result",
          "data": {
            "text/plain": [
              "'Data Analyst : Interpreting data, analyzing results'"
            ],
            "application/vnd.google.colaboratory.intrinsic+json": {
              "type": "string"
            }
          },
          "metadata": {},
          "execution_count": 30
        }
      ]
    },
    {
      "cell_type": "code",
      "source": [
        "#@title Employment Status (run:auto)\n",
        "status = 'full-time' #@param [\"full-time\",\"part-time\",\"casual\"]\n",
        "print('you selected ',status)"
      ],
      "metadata": {
        "colab": {
          "base_uri": "https://localhost:8080/"
        },
        "id": "vwZxhRHNXdZV",
        "outputId": "0a379a67-9bab-4a52-ce00-32ee1382523e"
      },
      "execution_count": null,
      "outputs": [
        {
          "output_type": "stream",
          "name": "stdout",
          "text": [
            "you selected  full-time\n"
          ]
        }
      ]
    },
    {
      "cell_type": "code",
      "source": [
        "from google.colab import drive\n",
        "drive.mount('/content/drive')"
      ],
      "metadata": {
        "colab": {
          "base_uri": "https://localhost:8080/"
        },
        "id": "E2QrDOK4X8yx",
        "outputId": "48c5573c-1b0c-48f5-d2aa-e552230b696a"
      },
      "execution_count": null,
      "outputs": [
        {
          "output_type": "stream",
          "name": "stdout",
          "text": [
            "Mounted at /content/drive\n"
          ]
        }
      ]
    },
    {
      "cell_type": "code",
      "source": [
        "import csv"
      ],
      "metadata": {
        "id": "0YQnSnCpZEFU"
      },
      "execution_count": null,
      "outputs": []
    },
    {
      "cell_type": "code",
      "source": [
        "info = [first_name,last_name]"
      ],
      "metadata": {
        "id": "3ZPRGM09cUnB"
      },
      "execution_count": null,
      "outputs": []
    },
    {
      "cell_type": "code",
      "source": [
        "with open('drive/My Drive/EmployeeData.csv','a') as f:\n",
        "  writer = csv.writer(f)\n",
        "  writer.writerow(info)"
      ],
      "metadata": {
        "id": "QtsUZko5cX8A"
      },
      "execution_count": null,
      "outputs": []
    },
    {
      "cell_type": "code",
      "source": [
        "with open('drive/My Drive/EmployeeData.csv','r') as f:\n",
        "  data = csv.reader(f)\n",
        "  for row in data:\n",
        "    print(row)"
      ],
      "metadata": {
        "colab": {
          "base_uri": "https://localhost:8080/"
        },
        "id": "ia4TAkNqcwjZ",
        "outputId": "acb0d6f2-e7bf-43d1-d38b-b72c76b71aaf"
      },
      "execution_count": null,
      "outputs": [
        {
          "output_type": "stream",
          "name": "stdout",
          "text": [
            "['first_name', 'last_name']\n",
            "['Charles', 'Keith']\n"
          ]
        }
      ]
    },
    {
      "cell_type": "code",
      "source": [],
      "metadata": {
        "id": "B6WbUUZSdJmX"
      },
      "execution_count": null,
      "outputs": []
    }
  ]
}